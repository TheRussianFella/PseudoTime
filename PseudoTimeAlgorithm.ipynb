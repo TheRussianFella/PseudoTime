{
 "cells": [
  {
   "cell_type": "code",
   "execution_count": 1,
   "metadata": {
    "collapsed": true
   },
   "outputs": [],
   "source": [
    "%matplotlib inline\n",
    "\n",
    "import matplotlib.pyplot as plt\n",
    "import numpy as np\n",
    "from scipy import io\n",
    "from scipy.sparse import csr_matrix\n",
    "from sklearn.decomposition import PCA\n",
    "from sklearn.manifold import TSNE\n",
    "from scipy.cluster import hierarchy\n",
    "\n",
    "import scipy as sp\n",
    "from scipy.sparse.csgraph import minimum_spanning_tree\n",
    "import networkx as nx\n",
    "\n",
    "from collections import defaultdict\n",
    "import matplotlib.cm as cm\n",
    "from itertools import chain\n",
    "\n",
    "from sklearn.externals import joblib"
   ]
  },
  {
   "cell_type": "code",
   "execution_count": 2,
   "metadata": {
    "collapsed": true
   },
   "outputs": [],
   "source": [
    "plt.rcParams['figure.figsize'] = (15, 10)"
   ]
  },
  {
   "cell_type": "markdown",
   "metadata": {},
   "source": [
    "# Algorithm for pseudo time building"
   ]
  },
  {
   "cell_type": "markdown",
   "metadata": {},
   "source": [
    "## Data preparation"
   ]
  },
  {
   "cell_type": "code",
   "execution_count": 3,
   "metadata": {
    "collapsed": true
   },
   "outputs": [],
   "source": [
    "mtx = io.mmread('GRCh38/matrix.mtx').transpose().todense()"
   ]
  },
  {
   "cell_type": "code",
   "execution_count": 4,
   "metadata": {
    "collapsed": true
   },
   "outputs": [],
   "source": [
    "mtx = mtx / np.sum(mtx, axis=1)\n",
    "\n",
    "mtx = mtx.transpose()"
   ]
  },
  {
   "cell_type": "code",
   "execution_count": 5,
   "metadata": {
    "collapsed": true
   },
   "outputs": [],
   "source": [
    "std = np.array(np.ndarray.std(mtx, axis=1))[0]"
   ]
  },
  {
   "cell_type": "code",
   "execution_count": 6,
   "metadata": {},
   "outputs": [
    {
     "data": {
      "image/png": "[encoded data removed]",
      "text/plain": [
       "<matplotlib.figure.Figure at 0x7f566ce00c50>"
      ]
     },
     "metadata": {},
     "output_type": "display_data"
    }
   ],
   "source": [
    "i = plt.hist(std,range=(0, 0.00002))"
   ]
  },
  {
   "cell_type": "code",
   "execution_count": 7,
   "metadata": {
    "collapsed": true
   },
   "outputs": [],
   "source": [
    "min_variance = 0.000050\n",
    "\n",
    "mtx = np.delete(mtx, np.where(std < min_variance)[0], axis=0)\n",
    "\n",
    "mtx = mtx.transpose()"
   ]
  },
  {
   "cell_type": "code",
   "execution_count": 8,
   "metadata": {},
   "outputs": [
    {
     "data": {
      "text/plain": [
       "(8391, 7340)"
      ]
     },
     "execution_count": 8,
     "metadata": {},
     "output_type": "execute_result"
    }
   ],
   "source": [
    "mtx.shape"
   ]
  },
  {
   "cell_type": "code",
   "execution_count": 9,
   "metadata": {
    "collapsed": true
   },
   "outputs": [],
   "source": [
    "princ_comp = PCA(100).fit_transform(mtx)"
   ]
  },
  {
   "cell_type": "markdown",
   "metadata": {},
   "source": [
    "## Clustering"
   ]
  },
  {
   "cell_type": "code",
   "execution_count": 10,
   "metadata": {
    "collapsed": true
   },
   "outputs": [],
   "source": [
    "hier = hierarchy.linkage(princ_comp, method='ward')"
   ]
  },
  {
   "cell_type": "code",
   "execution_count": 11,
   "metadata": {},
   "outputs": [
    {
     "data": {
      "image/png": "[encoded data removed]",
      "text/plain": [
       "<matplotlib.figure.Figure at 0x7f5635097470>"
      ]
     },
     "metadata": {},
     "output_type": "display_data"
    }
   ],
   "source": [
    "plt.figure(figsize=(7, 5))\n",
    "plt.title('Hierarchical Clustering Dendrogram')\n",
    "plt.xlabel('sample index')\n",
    "plt.ylabel('distance')\n",
    "hierarchy.dendrogram(\n",
    "    hier,\n",
    "    truncate_mode='lastp',  # show only the last p merged clusters\n",
    "    p=12,  # show only the last p merged clusters\n",
    "    show_leaf_counts=False,  # otherwise numbers in brackets are counts\n",
    "    leaf_rotation=90.,\n",
    "    leaf_font_size=12.,\n",
    "    show_contracted=True,  # to get a distribution impression in truncated branches\n",
    ");"
   ]
  },
  {
   "cell_type": "code",
   "execution_count": 12,
   "metadata": {
    "collapsed": true
   },
   "outputs": [],
   "source": [
    "classes = hierarchy.fcluster(hier, 0.4, criterion='distance')"
   ]
  },
  {
   "cell_type": "code",
   "execution_count": 154,
   "metadata": {
    "collapsed": true
   },
   "outputs": [],
   "source": [
    "classes = classes - 1"
   ]
  },
  {
   "cell_type": "code",
   "execution_count": 13,
   "metadata": {
    "collapsed": true
   },
   "outputs": [],
   "source": [
    "def get_class_centers(points, classes):\n",
    "    return np.array([np.median(points[classes == cl], axis=0) for cl in np.unique(classes)])"
   ]
  },
  {
   "cell_type": "code",
   "execution_count": 14,
   "metadata": {
    "collapsed": true
   },
   "outputs": [],
   "source": [
    "centers = get_class_centers(princ_comp, classes)"
   ]
  },
  {
   "cell_type": "markdown",
   "metadata": {},
   "source": [
    "## Graph construction"
   ]
  },
  {
   "cell_type": "code",
   "execution_count": 15,
   "metadata": {
    "collapsed": true
   },
   "outputs": [],
   "source": [
    "def get_dist_matrix(points):\n",
    "        n = points.shape[0]\n",
    "        \n",
    "        dist_matrix = np.zeros([n, n])\n",
    "        for i in range(n):\n",
    "            for j in range(n):\n",
    "                dist_matrix[i][j] = np.linalg.norm(points[i] - points[j])\n",
    "        return dist_matrix"
   ]
  },
  {
   "cell_type": "code",
   "execution_count": 16,
   "metadata": {
    "collapsed": true
   },
   "outputs": [],
   "source": [
    "def get_links(nodes):\n",
    "    links = []\n",
    "    for ind, row in enumerate(nodes):\n",
    "        links.extend([{'source':ind, 'target':x, 'value':row.item(x)} for x in np.where(row != 0)[1]])\n",
    "    return links"
   ]
  },
  {
   "cell_type": "code",
   "execution_count": 17,
   "metadata": {
    "collapsed": true
   },
   "outputs": [],
   "source": [
    "dist_matr = get_dist_matrix(centers)"
   ]
  },
  {
   "cell_type": "code",
   "execution_count": 19,
   "metadata": {
    "collapsed": true
   },
   "outputs": [],
   "source": [
    "tree = minimum_spanning_tree(dist_matr).todense()"
   ]
  },
  {
   "cell_type": "code",
   "execution_count": null,
   "metadata": {
    "collapsed": true
   },
   "outputs": [],
   "source": [
    "links = get_links(tree)"
   ]
  },
  {
   "cell_type": "markdown",
   "metadata": {},
   "source": [
    "## Data vizualization"
   ]
  },
  {
   "cell_type": "markdown",
   "metadata": {},
   "source": [
    "### 3D"
   ]
  },
  {
   "cell_type": "code",
   "execution_count": null,
   "metadata": {
    "collapsed": true,
    "scrolled": true
   },
   "outputs": [],
   "source": [
    "projections = TSNE(3).fit_transform(princ_comp)"
   ]
  },
  {
   "cell_type": "code",
   "execution_count": null,
   "metadata": {
    "collapsed": true
   },
   "outputs": [],
   "source": [
    "import plotly.plotly as py\n",
    "from plotly.graph_objs import *\n",
    "from plotly.offline import download_plotlyjs, init_notebook_mode, plot, iplot\n",
    "\n",
    "init_notebook_mode(connected=True)\n",
    "\n",
    "def display_dots(dots, classes):\n",
    "    # Dots\n",
    "    Xn, Yn, Zn = dots[:,0], dots[:,1], dots[:,2] \n",
    "    \n",
    "    trace = Scatter3d(x=Xn,\n",
    "               y=Yn,\n",
    "               z=Zn,\n",
    "               mode='markers',\n",
    "               name='actors',\n",
    "               marker=Marker(symbol='dot',\n",
    "                         size=2,\n",
    "                         colorscale='Viridis',\n",
    "                         line=Line(color='rgb(50,50,50)', width=0.5),\n",
    "                         color=classes\n",
    "                    )\n",
    "               )\n",
    "    \n",
    "    return trace\n",
    "\n",
    "def display_graph(dots, links):\n",
    "    \n",
    "    # Lines\n",
    "    Xe, Ye, Ze = [], [], []\n",
    "\n",
    "    for el in links:\n",
    "\n",
    "        first = dots[el['source']]\n",
    "        second = dots[el['target']]\n",
    "\n",
    "        Xe += [first[0], second[0], None]\n",
    "        Ye += [first[1], second[1], None]\n",
    "        Ze += [first[2], second[2], None]\n",
    "    \n",
    "    # Dots\n",
    "    Xn, Yn, Zn = dots[:,0], dots[:,1], dots[:,2] \n",
    "    \n",
    "    labels = list(map(str, range(len(dots))))\n",
    "    \n",
    "    trace1 = Scatter3d( x=Xe,\n",
    "                y=Ye,\n",
    "                z=Ze,\n",
    "                mode='lines',\n",
    "                line=Line(color='rgb(125,125,125)', width=4),\n",
    "                hoverinfo='none')\n",
    "    \n",
    "    trace2 = Scatter3d(x=Xn,\n",
    "               y=Yn,\n",
    "               z=Zn,\n",
    "               mode='markers',\n",
    "               name='actors',\n",
    "               marker=Marker(symbol='dot',\n",
    "                         size=5,\n",
    "                         colorscale='rgb(255,0,0)',\n",
    "                         line=Line(color='rgb(50,50,50)', width=0.5) ),\n",
    "               text=labels,\n",
    "               hoverinfo=['text', 'coordinates']\n",
    "               )\n",
    "    \n",
    "    \n",
    "    \n",
    "    return trace1, trace2\n",
    "\n",
    "def make_fig(traces, title=\"Default\"):\n",
    "    axis=dict(showbackground=False,\n",
    "          showline=False,\n",
    "          zeroline=False,\n",
    "          showgrid=False,\n",
    "          showticklabels=False,\n",
    "          title=''\n",
    "          )\n",
    "    \n",
    "    layout = Layout(\n",
    "         title=title,\n",
    "         width=1000,\n",
    "         height=1000,\n",
    "         showlegend=False,\n",
    "         scene=Scene(\n",
    "         xaxis=XAxis(axis),\n",
    "         yaxis=YAxis(axis),\n",
    "         zaxis=ZAxis(axis),\n",
    "        ),\n",
    "     margin=Margin(\n",
    "        t=100)\n",
    "    )\n",
    "    \n",
    "    data = Data(traces)\n",
    "    \n",
    "    fig=Figure(data=data, layout=layout)\n",
    "    \n",
    "    return fig"
   ]
  },
  {
   "cell_type": "code",
   "execution_count": null,
   "metadata": {
    "collapsed": true
   },
   "outputs": [],
   "source": [
    "trace1 = display_dots(projections, classes)"
   ]
  },
  {
   "cell_type": "code",
   "execution_count": null,
   "metadata": {
    "collapsed": true
   },
   "outputs": [],
   "source": [
    "trace2,trace3 = display_graph(centers_projections, links)"
   ]
  },
  {
   "cell_type": "code",
   "execution_count": null,
   "metadata": {
    "collapsed": true
   },
   "outputs": [],
   "source": [
    "fig = make_fig([trace1, trace2, trace3], title='PseudoTimeGraph')"
   ]
  },
  {
   "cell_type": "code",
   "execution_count": null,
   "metadata": {
    "collapsed": true
   },
   "outputs": [],
   "source": [
    "iplot(fig,filename='PseudoTime')"
   ]
  },
  {
   "cell_type": "markdown",
   "metadata": {},
   "source": [
    "### 2D"
   ]
  },
  {
   "cell_type": "code",
   "execution_count": 25,
   "metadata": {
    "collapsed": true
   },
   "outputs": [],
   "source": [
    "def hierarchy_pos(G, root, width=1., vert_gap = 0.2, vert_loc = 0, xcenter = 0.5, \n",
    "                  pos = None, parent = None):\n",
    "    '''If there is a cycle that is reachable from root, then this will see infinite recursion.\n",
    "       G: the graph\n",
    "       root: the root node of current branch\n",
    "       width: horizontal space allocated for this branch - avoids overlap with other branches\n",
    "       vert_gap: gap between levels of hierarchy\n",
    "       vert_loc: vertical location of root\n",
    "       xcenter: horizontal location of root\n",
    "       pos: a dict saying where all nodes go if they have been assigned\n",
    "       parent: parent of this branch.'''\n",
    "    if pos == None:\n",
    "        pos = {root:(xcenter,vert_loc)}\n",
    "    else:\n",
    "        pos[root] = (xcenter, vert_loc)\n",
    "    neighbors = G.neighbors(root)\n",
    "    if parent != None:\n",
    "        neighbors.remove(parent)\n",
    "    if len(neighbors)!=0:\n",
    "        dx = width/len(neighbors) \n",
    "        nextx = xcenter - width/2 - dx/2\n",
    "        for neighbor in neighbors:\n",
    "            nextx += dx\n",
    "            pos = hierarchy_pos(G,neighbor, width = dx, vert_gap = vert_gap, \n",
    "                                vert_loc = vert_loc-vert_gap, xcenter=nextx, pos=pos, \n",
    "                                parent = root)\n",
    "    return pos"
   ]
  },
  {
   "cell_type": "code",
   "execution_count": 26,
   "metadata": {
    "collapsed": true
   },
   "outputs": [],
   "source": [
    "graph = nx.from_numpy_matrix(tree)"
   ]
  },
  {
   "cell_type": "code",
   "execution_count": 27,
   "metadata": {},
   "outputs": [
    {
     "name": "stderr",
     "output_type": "stream",
     "text": [
      "/home/max/anaconda3/lib/python3.5/site-packages/networkx/drawing/nx_pylab.py:126: MatplotlibDeprecationWarning: pyplot.hold is deprecated.\n",
      "    Future behavior will be consistent with the long-time default:\n",
      "    plot commands add elements without first clearing the\n",
      "    Axes and/or Figure.\n",
      "  b = plt.ishold()\n",
      "/home/max/anaconda3/lib/python3.5/site-packages/networkx/drawing/nx_pylab.py:138: MatplotlibDeprecationWarning: pyplot.hold is deprecated.\n",
      "    Future behavior will be consistent with the long-time default:\n",
      "    plot commands add elements without first clearing the\n",
      "    Axes and/or Figure.\n",
      "  plt.hold(b)\n",
      "/home/max/anaconda3/lib/python3.5/site-packages/matplotlib/__init__.py:917: UserWarning: axes.hold is deprecated. Please remove it from your matplotlibrc and/or style files.\n",
      "  warnings.warn(self.msg_depr_set % key)\n",
      "/home/max/anaconda3/lib/python3.5/site-packages/matplotlib/rcsetup.py:152: UserWarning: axes.hold is deprecated, will be removed in 3.0\n",
      "  warnings.warn(\"axes.hold is deprecated, will be removed in 3.0\")\n"
     ]
    },
    {
     "data": {
      "image/png": "[encoded data removed]",
      "text/plain": [
       "<matplotlib.figure.Figure at 0x7f566ce0fb38>"
      ]
     },
     "metadata": {},
     "output_type": "display_data"
    }
   ],
   "source": [
    "nx.draw(graph, pos=hierarchy_pos(graph, 10), with_labels=True, )"
   ]
  },
  {
   "cell_type": "markdown",
   "metadata": {},
   "source": [
    "## Tree filtering"
   ]
  },
  {
   "cell_type": "code",
   "execution_count": 20,
   "metadata": {
    "collapsed": true
   },
   "outputs": [],
   "source": [
    "def get_adj_list(graph):\n",
    "    adj_list = defaultdict(set)\n",
    "    for ind, dem in enumerate(graph):\n",
    "        possibilities = np.where(dem != 0)[1]\n",
    "\n",
    "        adj_list[ind] = adj_list[ind].union(set(possibilities.tolist()))\n",
    "\n",
    "        for poss in possibilities:\n",
    "            adj_list[poss].add(ind)\n",
    "    return adj_list"
   ]
  },
  {
   "cell_type": "code",
   "execution_count": 21,
   "metadata": {
    "collapsed": true
   },
   "outputs": [],
   "source": [
    "def get_longest_path(graph, start=None):\n",
    "    '''\n",
    "    If start is None, algorithm chooses start of the longest path in a graph.\n",
    "    '''\n",
    "    \n",
    "    # It is possible to prove, that the the end of\n",
    "    # the longest path from a random point is the start of the longest\n",
    "    # path in a graph.\n",
    "    \n",
    "    if start is None:\n",
    "        random_start = np.random.choice(list(graph.keys()))\n",
    "        start = get_longest_path(graph, random_start)[-1]        \n",
    "    \n",
    "    stack = [(start, [start])]\n",
    "    \n",
    "    longest_path = [start]\n",
    "    \n",
    "    while stack:\n",
    "        (vertex, path) = stack.pop()\n",
    "        \n",
    "        possible = graph[vertex] - set(path)\n",
    "        \n",
    "        if len(possible) == 0:\n",
    "            if len(longest_path) < len(path):\n",
    "                longest_path = list(path)\n",
    "            \n",
    "        for next in possible:\n",
    "            stack.append((next, path + [next]))\n",
    "            \n",
    "    return longest_path"
   ]
  },
  {
   "cell_type": "code",
   "execution_count": 22,
   "metadata": {
    "collapsed": true
   },
   "outputs": [],
   "source": [
    "def get_branch_stats(adj_list, curr_node, next_node, dist_matr, begin_node):\n",
    "    possible_ways = adj_list[next_node] - set([curr_node])\n",
    "    \n",
    "    if len(possible_ways) == 0:\n",
    "        return (1, dist_matr[curr_node, next_node])\n",
    "    \n",
    "    stats = list(map(lambda x: get_branch_stats(adj_list, next_node, x, dist_matr, begin_node), possible_ways))\n",
    "    \n",
    "    sums = 1 + sum([x[0] for x in stats])\n",
    "    dist = dist_matr[begin_node, next_node] + sum([x[1] for x in stats])\n",
    "    \n",
    "    return sums, dist"
   ]
  },
  {
   "cell_type": "code",
   "execution_count": 23,
   "metadata": {
    "collapsed": true
   },
   "outputs": [],
   "source": [
    "def get_branch(adj_list, node, next_node):\n",
    "    if len(adj_list[next_node] - set([node])) == 0:\n",
    "        return [node, next_node]\n",
    "    next_step = (adj_list[next_node] - set([node])).pop()\n",
    "    return list(chain(*[[node], get_branch(adj_list, next_node, next_step)]))"
   ]
  },
  {
   "cell_type": "code",
   "execution_count": 70,
   "metadata": {
    "collapsed": true
   },
   "outputs": [],
   "source": [
    "def get_tree_stats(adj_list, path, dist_matr):\n",
    "    stats = []; inds = []; cluster_sizes = []\n",
    "\n",
    "    for ind, node in enumerate(path):\n",
    "        if len(adj_list[node]) > 2:\n",
    "            possible_ways = list(adj_list[node] - set(path))\n",
    "\n",
    "            addings = list(map(lambda x: get_branch_stats(adj_list, node, x, dist_matr, node), possible_ways))\n",
    "\n",
    "            stats.extend(addings)\n",
    "            inds.extend([(node, possible_ways[i]) for i in range(len(addings))])\n",
    "            \n",
    "    return list(zip([np.prod(x) for x in stats], inds))"
   ]
  },
  {
   "cell_type": "markdown",
   "metadata": {},
   "source": [
    "### Merging"
   ]
  },
  {
   "cell_type": "code",
   "execution_count": 157,
   "metadata": {
    "collapsed": true
   },
   "outputs": [],
   "source": [
    "def merge(adj_list, from_node, to_node, classes):\n",
    "    \n",
    "    if len(adj_list[to_node]) != 1:\n",
    "        possibilities = adj_list[to_node] - set([from_node])\n",
    "        for poss in possibilities:\n",
    "            adj_list, classes = merge(adj_list, to_node, poss, classes)       \n",
    "    \n",
    "    adj_list[from_node].remove(to_node)\n",
    "    adj_list.pop(to_node)\n",
    "    \n",
    "    return adj_list, [from_node if x == to_node else x for x in classes]"
   ]
  },
  {
   "cell_type": "code",
   "execution_count": 192,
   "metadata": {
    "collapsed": true
   },
   "outputs": [],
   "source": [
    "def clean_tree(adj_list, path, dist_matr, classes, alpha=0.2):\n",
    "    \n",
    "    stats = get_tree_stats(adj_list, path, dist_matr)\n",
    "    \n",
    "    def construct_new_adj(vert, next_vert):\n",
    "            new = adj_list.copy()\n",
    "            new[vert] = set([next_vert])\n",
    "            return new\n",
    "    \n",
    "    full_vertexes = list(filter(lambda x: x[0] > alpha, stats))\n",
    "    small_vertexes = list(filter(lambda x: x[0] < alpha, stats))\n",
    "\n",
    "    if len(full_vertexes):\n",
    "        inds = [x[1] for x in full_vertexes]\n",
    "        \n",
    "        big_branches = list(map(lambda x: construct_new_adj(x[0], x[1]), inds))\n",
    "\n",
    "        paths = list(map(lambda x: get_longest_path(x[0], x[1]), zip(big_branches, [x[0] for x in inds])))\n",
    "        \n",
    "        clean = list(map(lambda x: clean_tree(x[0], x[1], dist_matr, classes)[0], zip(big_branches, paths)))\n",
    "                \n",
    "        # Separate vertexes from the main tree.\n",
    "        for ind in inds:\n",
    "            adj_list[ind[0]].remove(ind[1])\n",
    "\n",
    "    if len(small_vertexes):\n",
    "        inds = [x[1] for x in small_vertexes]\n",
    "\n",
    "        for ind in inds:\n",
    "            adj_list, classes = merge(adj_list, ind[0], ind[1], classes)\n",
    "                \n",
    "    if len(full_vertexes):\n",
    "        for (_, vrt), clean_branch in zip(full_vertexes, clean):\n",
    "            next_node = list(clean_branch[vrt[0]])[0]\n",
    "            vertexes = get_branch(clean_branch, vrt[0], next_node)\n",
    "\n",
    "            adj_list[vertexes[0]] = adj_list[vertexes[0]].union(clean_branch[vertexes[0]])\n",
    "            \n",
    "            for v in vertexes[1:]:\n",
    "                adj_list[v] = clean_branch[v]\n",
    "            \n",
    "    \n",
    "    return adj_list, classes"
   ]
  },
  {
   "cell_type": "markdown",
   "metadata": {},
   "source": [
    "### PQ Trees"
   ]
  },
  {
   "cell_type": "code",
   "execution_count": null,
   "metadata": {
    "collapsed": true
   },
   "outputs": [],
   "source": [
    "def get_indiciciev_backbone(adj_list, path):\n",
    "    \n",
    "    is_decisive = lambda x: len(adj_list[x]) <= 2\n",
    "\n",
    "    longest = []\n",
    "\n",
    "    for ind, vert in enumerate(path):\n",
    "        if not is_decisive(vert):\n",
    "            longest.append(ind)\n",
    "            break\n",
    "            \n",
    "    for ind, vert in enumerate(reversed(path)):\n",
    "        if not is_decisive(vert):\n",
    "            longest.append(len(long)-ind)\n",
    "            break\n",
    "    \n",
    "    return path[longest[0]:longest[1]] "
   ]
  },
  {
   "cell_type": "code",
   "execution_count": null,
   "metadata": {
    "collapsed": true
   },
   "outputs": [],
   "source": [
    "def construct_pq(adj_list, path):\n",
    "    \n",
    "    is_decisive = lambda x: len(adj_list[x]) <= 2\n",
    "    \n",
    "    def construct_new_adj(vert):\n",
    "        new = dict(adj_list)\n",
    "        new[vert] = adj_list[vert] - set(path)\n",
    "        return new\n",
    "    \n",
    "    q_node = {'q': list()}\n",
    "    \n",
    "    for vert in path:\n",
    "        if is_decisive(vert):\n",
    "            q_node['q'].append(vert)\n",
    "            \n",
    "        else:\n",
    "            possible_nodes = list(adj_list[vert] - set(path))\n",
    "            \n",
    "            vertexes = list(map(construct_new_adj, possible_nodes))\n",
    "            \n",
    "            paths = [get_longest_path(vertexes[i], possible_nodes[i]) for i in range(len(possible_nodes))]\n",
    "\n",
    "            p_node_raw = [construct_pq(vertexes[i], paths[i]) for i in range(len(possible_nodes))]\n",
    "            p_node_raw.append({'q':[vert]})\n",
    "\n",
    "            p_node = {}; p_node['p'] = p_node_raw\n",
    "            \n",
    "            q_node['q'].append(p_node)\n",
    "    \n",
    "    return q_node"
   ]
  },
  {
   "cell_type": "code",
   "execution_count": null,
   "metadata": {
    "collapsed": true
   },
   "outputs": [],
   "source": [
    "def adj_from_array(array):\n",
    "    adj_list = {}\n",
    "    \n",
    "    adj_list[array[0]] = set([array[1]])\n",
    "    adj_list[array[-1]] = set([array[-2]])\n",
    "    \n",
    "    for i in range(1, len(array)-1):\n",
    "        adj_list[array[i]] = set([array[i-1], array[i+1]])\n",
    "        \n",
    "    return adj_list"
   ]
  },
  {
   "cell_type": "code",
   "execution_count": null,
   "metadata": {
    "collapsed": true
   },
   "outputs": [],
   "source": [
    "class Anea_Optim:\n",
    "    def __init__(self, temp_func, energy_func, next_state_func, start_temp=10, end_temp=0.001):\n",
    "        self.temp_func = temp_func\n",
    "        self.energy_func = energy_func\n",
    "        self.next_state_func = next_state_func\n",
    "        \n",
    "        self.start_temp = start_temp\n",
    "        self.end_temp = end_temp\n",
    "        \n",
    "    def optimize(self, starting_state):\n",
    "        \n",
    "        temp = self.start_temp\n",
    "        state = starting_state\n",
    "        i = 1\n",
    "        \n",
    "        while temp > self.end_temp:\n",
    "            next_state = self.next_state_func(state)\n",
    "            \n",
    "            delta_energy = self.energy_func(next_state) - self.energy_func(state)\n",
    "            \n",
    "            if delta_energy <= 0:\n",
    "                step_prob = 1\n",
    "            else:\n",
    "                step_prob = np.exp(-delta_energy/temp)\n",
    "            \n",
    "            universe_dice = np.random.rand()\n",
    "            \n",
    "            if universe_dice < step_prob:\n",
    "                state = next_state\n",
    "            \n",
    "            temp = self.temp_func(self.start_temp, i)\n",
    "            i += 1\n",
    "    \n",
    "        return state\n",
    "\n",
    "def temp(initial, i):\n",
    "    return initial * 0.1 / i\n",
    "\n",
    "def energy(state, dist_matr):\n",
    "    en = 0\n",
    "    for i in range(len(state)-1):\n",
    "        en += dist_matr[state[i][-1], state[i+1][0]]\n",
    "    return en\n",
    "\n",
    "def next_state(state):\n",
    "    copy = list(state)\n",
    "\n",
    "    flip = np.random.choice([0, 1])\n",
    "    ind = np.random.choice(list(range(len(state))))\n",
    "\n",
    "    if flip:\n",
    "        copy[ind] = list(reversed(copy[ind]))\n",
    "    else:\n",
    "        swap_ind = np.random.choice(list(range(len(state))))\n",
    "\n",
    "        temp = copy[ind]\n",
    "        copy[ind] = copy[swap_ind]\n",
    "        copy[swap_ind] = temp\n",
    "    \n",
    "    return copy"
   ]
  },
  {
   "cell_type": "code",
   "execution_count": null,
   "metadata": {
    "collapsed": true
   },
   "outputs": [],
   "source": [
    "def reconstruct(node, dist_matr, optimizer, optim_iter=5):\n",
    "    \n",
    "    applied_recon = lambda x: reconstruct(x, dist_matr, optimizer)\n",
    "    \n",
    "    if type(node) == int:\n",
    "        return [node]\n",
    "    \n",
    "    key = list(node.keys())[0]\n",
    "    \n",
    "    parsed = list(map(applied_recon, node[key]))\n",
    "    if key == 'p':\n",
    "        paths = []\n",
    "\n",
    "        for i in range(optim_iter):\n",
    "            guess = optimizer.optimize(parsed)\n",
    "            paths.append(guess)\n",
    "\n",
    "        optimal_path = min(paths, key=optimizer.energy_func)\n",
    "\n",
    "        return list(chain(*optimal_path))\n",
    "    else:\n",
    "        return list(chain(*parsed))\n",
    "            "
   ]
  },
  {
   "cell_type": "code",
   "execution_count": null,
   "metadata": {
    "collapsed": true
   },
   "outputs": [],
   "source": [
    "def clean_tree(adj_list, path, dist_matr, alpha=0.2):\n",
    "    \n",
    "    stats = get_tree_stats(adj_list, path, dist_matr)\n",
    "    \n",
    "    def construct_new_adj(vert):\n",
    "            new = adj_list.copy()\n",
    "            new[vert] = adj_list[vert] - set(path)\n",
    "            return new\n",
    "    \n",
    "    full_vertexes = list(filter(lambda x: x[0] > alpha, stats))\n",
    "    if len(full_vertexes):\n",
    "        inds = [x[1] for x in full_vertexes]\n",
    "    \n",
    "        big_branches = list(map(construct_new_adj, inds))\n",
    "        \n",
    "        paths = list(map(lambda x: get_longest_path(x[0], x[1]), zip(big_branches, inds)))\n",
    "        \n",
    "        clean = list(map(lambda x: clean_tree(x[0], x[1], dist_matr), zip(big_branches, paths)))\n",
    "        \n",
    "        adj_list = adj_list.copy()\n",
    "        \n",
    "        # Separate vertexes from the main tree.\n",
    "        for ind in inds:\n",
    "            adj_list[ind] = adj_list[ind].intersection(set(path))\n",
    "    \n",
    "    indic = get_indiciciev_backbone(adj_list, path)\n",
    "    \n",
    "    pq_tree = construct_pq(adj_list, indic)\n",
    "    \n",
    "    our_energy = lambda x: energy(x, dist_matr)\n",
    "    \n",
    "    optimizer = Anea_Optim(temp, our_energy, next_state)\n",
    "    \n",
    "    cleaned_tree = adj_from_array(reconstruct(pq_tree, dist_matr, optimizer))\n",
    "\n",
    "    if len(full_vertexes):\n",
    "        for (_, vrt), clean_branch in zip(full_vertexes, clean):\n",
    "            next_node = list(clean_branch[vrt])[0]\n",
    "            vertexes = get_branch(clean_branch, vrt, next_node)\n",
    "            cleaned_tree[vertexes[0]] = cleaned_tree[vertexes[0]].union(clean_branch[vertexes[0]])\n",
    "            \n",
    "            for v in vertexes[1:]:\n",
    "                cleaned_tree[v] = clean_branch[v]\n",
    "            \n",
    "    \n",
    "    return cleaned_tree"
   ]
  },
  {
   "cell_type": "markdown",
   "metadata": {},
   "source": [
    "### Filtering"
   ]
  },
  {
   "cell_type": "code",
   "execution_count": 228,
   "metadata": {
    "collapsed": true
   },
   "outputs": [],
   "source": [
    "adj_list = get_adj_list(tree)"
   ]
  },
  {
   "cell_type": "code",
   "execution_count": 42,
   "metadata": {
    "collapsed": true
   },
   "outputs": [],
   "source": [
    "long = get_longest_path(adj_list)"
   ]
  },
  {
   "cell_type": "code",
   "execution_count": 229,
   "metadata": {
    "collapsed": true
   },
   "outputs": [],
   "source": [
    "cleaned_tree, new_classes = clean_tree(adj_list.copy(), long, dist_matr, classes, alpha=0.3)"
   ]
  },
  {
   "cell_type": "code",
   "execution_count": 161,
   "metadata": {
    "collapsed": true
   },
   "outputs": [],
   "source": [
    "def adj_list_to_matr(adj_list, dist_matr):\n",
    "    matr_shape = dist_matr.shape\n",
    "    \n",
    "    matr = np.zeros(matr_shape)\n",
    "    \n",
    "    for k in adj_list.keys():\n",
    "        for j in adj_list[k]:\n",
    "            matr[k][j] = dist_matr[k, j]\n",
    "    \n",
    "    return matr"
   ]
  },
  {
   "cell_type": "code",
   "execution_count": 196,
   "metadata": {
    "collapsed": true
   },
   "outputs": [],
   "source": [
    "clean_graph = nx.from_numpy_matrix(adj_list_to_matr(cleaned_tree, dist_matr))"
   ]
  },
  {
   "cell_type": "code",
   "execution_count": 197,
   "metadata": {},
   "outputs": [
    {
     "name": "stderr",
     "output_type": "stream",
     "text": [
      "/home/max/anaconda3/lib/python3.5/site-packages/networkx/drawing/nx_pylab.py:126: MatplotlibDeprecationWarning: pyplot.hold is deprecated.\n",
      "    Future behavior will be consistent with the long-time default:\n",
      "    plot commands add elements without first clearing the\n",
      "    Axes and/or Figure.\n",
      "  b = plt.ishold()\n",
      "/home/max/anaconda3/lib/python3.5/site-packages/networkx/drawing/nx_pylab.py:138: MatplotlibDeprecationWarning: pyplot.hold is deprecated.\n",
      "    Future behavior will be consistent with the long-time default:\n",
      "    plot commands add elements without first clearing the\n",
      "    Axes and/or Figure.\n",
      "  plt.hold(b)\n",
      "/home/max/anaconda3/lib/python3.5/site-packages/matplotlib/__init__.py:917: UserWarning: axes.hold is deprecated. Please remove it from your matplotlibrc and/or style files.\n",
      "  warnings.warn(self.msg_depr_set % key)\n",
      "/home/max/anaconda3/lib/python3.5/site-packages/matplotlib/rcsetup.py:152: UserWarning: axes.hold is deprecated, will be removed in 3.0\n",
      "  warnings.warn(\"axes.hold is deprecated, will be removed in 3.0\")\n"
     ]
    },
    {
     "data": {
      "image/png": "[encoded data removed]",
      "text/plain": [
       "<matplotlib.figure.Figure at 0x7f5613cf8160>"
      ]
     },
     "metadata": {},
     "output_type": "display_data"
    }
   ],
   "source": [
    "nx.draw(clean_graph, pos=hierarchy_pos(graph, 10), with_labels=True, )"
   ]
  },
  {
   "cell_type": "code",
   "execution_count": 203,
   "metadata": {
    "collapsed": true
   },
   "outputs": [],
   "source": [
    "np.array(new_classes).dump('classes.pcl')"
   ]
  },
  {
   "cell_type": "code",
   "execution_count": 244,
   "metadata": {},
   "outputs": [
    {
     "data": {
      "text/plain": [
       "['cleaned_tree.jl']"
      ]
     },
     "execution_count": 244,
     "metadata": {},
     "output_type": "execute_result"
    }
   ],
   "source": [
    "joblib.dump(cleaned_tree, 'cleaned_tree.jl')"
   ]
  },
  {
   "cell_type": "code",
   "execution_count": 19,
   "metadata": {
    "collapsed": true
   },
   "outputs": [],
   "source": [
    "def generate_pairs(adj_list, start_node=None, next_node=None):\n",
    "    \n",
    "    if start_node is None:\n",
    "        start_node = list(filter(lambda x: len(x[1]) == 1, cleaned_tree.items()))[0][0] \n",
    "        next_node = list(adj_list[start_node])[0]\n",
    "        \n",
    "    pairs = [(start_node, next_node)]\n",
    "    \n",
    "    next_ways = adj_list[next_node] - set([start_node])\n",
    "    \n",
    "    return pairs + list(chain(*list(map(lambda x: generate_pairs(adj_list, next_node, x), next_ways))))"
   ]
  },
  {
   "cell_type": "markdown",
   "metadata": {},
   "source": [
    "## Cell type determination"
   ]
  },
  {
   "cell_type": "code",
   "execution_count": 4,
   "metadata": {},
   "outputs": [],
   "source": [
    "import pandas as pd\n",
    "from scipy.stats.distributions import norm\n",
    "from statsmodels.sandbox.stats.multicomp import multipletests"
   ]
  },
  {
   "cell_type": "code",
   "execution_count": 5,
   "metadata": {},
   "outputs": [
    {
     "name": "stdout",
     "output_type": "stream",
     "text": [
      "CPU times: user 27.6 s, sys: 1.79 s, total: 29.4 s\n",
      "Wall time: 35.2 s\n"
     ]
    }
   ],
   "source": [
    "%time clean_mtx = np.array(io.mmread('GRCh38/matrix.mtx').transpose().todense())"
   ]
  },
  {
   "cell_type": "code",
   "execution_count": 6,
   "metadata": {
    "collapsed": true
   },
   "outputs": [],
   "source": [
    "cleaned_tree = joblib.load('cleaned_tree.jl')\n",
    "classes = np.load('classes.pcl')"
   ]
  },
  {
   "cell_type": "markdown",
   "metadata": {},
   "source": [
    "### Renaming current genes to GO format"
   ]
  },
  {
   "cell_type": "code",
   "execution_count": 6,
   "metadata": {
    "collapsed": true
   },
   "outputs": [],
   "source": [
    "genes = pd.read_table('GRCh38/genes.tsv', header=None)"
   ]
  },
  {
   "cell_type": "code",
   "execution_count": 7,
   "metadata": {
    "collapsed": true
   },
   "outputs": [],
   "source": [
    "ensemble_ids = np.array(genes[0])"
   ]
  },
  {
   "cell_type": "code",
   "execution_count": 8,
   "metadata": {
    "collapsed": true,
    "scrolled": true
   },
   "outputs": [],
   "source": [
    "ensemble_to_go = pd.read_csv('ensebml_to_go.csv', index_col='ensembl_gene_id')"
   ]
  },
  {
   "cell_type": "code",
   "execution_count": 9,
   "metadata": {
    "collapsed": true
   },
   "outputs": [],
   "source": [
    "filter_index = list(map(lambda x: x in ensemble_to_go.index, ensemble_ids))"
   ]
  },
  {
   "cell_type": "code",
   "execution_count": 10,
   "metadata": {
    "collapsed": true
   },
   "outputs": [],
   "source": [
    "gene_names = np.array(list(ensemble_to_go.loc[ensemble_ids[filter_index]].hgnc_symbol))"
   ]
  },
  {
   "cell_type": "code",
   "execution_count": 11,
   "metadata": {
    "collapsed": true
   },
   "outputs": [],
   "source": [
    "clean_mtx = clean_mtx[:, filter_index]"
   ]
  },
  {
   "cell_type": "code",
   "execution_count": 12,
   "metadata": {
    "collapsed": true
   },
   "outputs": [],
   "source": [
    "filter_index = clean_mtx.sum(axis=0) > 0"
   ]
  },
  {
   "cell_type": "code",
   "execution_count": 13,
   "metadata": {
    "collapsed": true
   },
   "outputs": [],
   "source": [
    "clean_mtx = clean_mtx[:, filter_index]\n",
    "gene_names = gene_names[filter_index]"
   ]
  },
  {
   "cell_type": "code",
   "execution_count": 7,
   "metadata": {},
   "outputs": [
    {
     "data": {
      "image/png": "[encoded data removed]",
      "text/plain": [
       "<matplotlib.figure.Figure at 0x7f3f804807b8>"
      ]
     },
     "metadata": {},
     "output_type": "display_data"
    }
   ],
   "source": [
    "plt.hist((clean_mtx > 0).sum(axis=0), bins=50);"
   ]
  },
  {
   "cell_type": "code",
   "execution_count": 8,
   "metadata": {
    "collapsed": true
   },
   "outputs": [],
   "source": [
    "filter_index = (clean_mtx > 0).sum(axis=0) > 30"
   ]
  },
  {
   "cell_type": "code",
   "execution_count": null,
   "metadata": {},
   "outputs": [],
   "source": [
    "clean_mtx = clean_mtx[:, filter_index]\n",
    "gene_names = gene_names[filter_index]"
   ]
  },
  {
   "cell_type": "markdown",
   "metadata": {},
   "source": [
    "Нормализуем"
   ]
  },
  {
   "cell_type": "code",
   "execution_count": null,
   "metadata": {
    "collapsed": true
   },
   "outputs": [],
   "source": [
    "clean_mtx = (clean_mtx.T / clean_mtx.sum(axis=1)).T"
   ]
  },
  {
   "cell_type": "markdown",
   "metadata": {},
   "source": [
    "Перед анализом матрицу надо логарифмировать, чтобы распределение стало ближе к нормальному:"
   ]
  },
  {
   "cell_type": "code",
   "execution_count": null,
   "metadata": {
    "collapsed": true
   },
   "outputs": [],
   "source": [
    "clean_mtx_log = np.log(1e-6 + clean_mtx)"
   ]
  },
  {
   "cell_type": "code",
   "execution_count": null,
   "metadata": {
    "collapsed": true
   },
   "outputs": [],
   "source": [
    "clean_mtx_log.dump('clean_mtx_log.pcl')\n",
    "gene_names.dump('gene_names.pcl')"
   ]
  },
  {
   "cell_type": "code",
   "execution_count": 14,
   "metadata": {
    "collapsed": true
   },
   "outputs": [],
   "source": [
    "clean_mtx_log = np.load('clean_mtx_log.pcl')\n",
    "gene_names = np.load('gene_names.pcl')"
   ]
  },
  {
   "cell_type": "code",
   "execution_count": 15,
   "metadata": {
    "collapsed": true
   },
   "outputs": [],
   "source": [
    "def z_score(first_cluster, second_cluster):\n",
    "    first_mean = first_cluster.mean(1)\n",
    "    first_var = first_cluster.var(1)\n",
    "\n",
    "    second_mean = second_cluster.mean(1)\n",
    "    second_var = second_cluster.var(1)\n",
    "    \n",
    "    Z = (first_mean - second_mean) / np.sqrt(first_var/first_cluster.shape[0] + second_var/second_cluster.shape[0])\n",
    "    \n",
    "    return Z"
   ]
  },
  {
   "cell_type": "code",
   "execution_count": 16,
   "metadata": {
    "collapsed": true
   },
   "outputs": [],
   "source": [
    "def get_diff_names(first_cluster, second_cluster, names, alpha=1e-3):\n",
    "    scores = z_score(first_cluster, second_cluster)\n",
    "    \n",
    "    pvals = 1 - sp.stats.norm.cdf(scores)\n",
    "    pvals_adj = multipletests(pvals, method='holm')[1]\n",
    "    \n",
    "    return names[pvals_adj < alpha]"
   ]
  },
  {
   "cell_type": "markdown",
   "metadata": {},
   "source": [
    "### Proccessing"
   ]
  },
  {
   "cell_type": "code",
   "execution_count": 20,
   "metadata": {},
   "outputs": [],
   "source": [
    "pairs = generate_pairs(cleaned_tree)"
   ]
  },
  {
   "cell_type": "code",
   "execution_count": 21,
   "metadata": {},
   "outputs": [
    {
     "data": {
      "text/plain": [
       "[(0, 1),\n",
       " (1, 3),\n",
       " (3, 4),\n",
       " (4, 5),\n",
       " (5, 7),\n",
       " (7, 8),\n",
       " (8, 9),\n",
       " (7, 15),\n",
       " (15, 11),\n",
       " (11, 10)]"
      ]
     },
     "execution_count": 21,
     "metadata": {},
     "output_type": "execute_result"
    }
   ],
   "source": [
    "pairs"
   ]
  },
  {
   "cell_type": "code",
   "execution_count": 33,
   "metadata": {},
   "outputs": [],
   "source": [
    "names = list(map(lambda x: get_diff_names(clean_mtx_log[classes == x[0]].T, clean_mtx_log[classes == x[1]].T, gene_names), pairs))"
   ]
  },
  {
   "cell_type": "markdown",
   "metadata": {},
   "source": [
    "### Enrichment analysis"
   ]
  },
  {
   "cell_type": "markdown",
   "metadata": {},
   "source": [
    "Download"
   ]
  },
  {
   "cell_type": "code",
   "execution_count": null,
   "metadata": {},
   "outputs": [],
   "source": [
    "del results_proc"
   ]
  },
  {
   "cell_type": "code",
   "execution_count": 37,
   "metadata": {
    "collapsed": true
   },
   "outputs": [],
   "source": [
    "from goatools.base import download_go_basic_obo, download_ncbi_associations"
   ]
  },
  {
   "cell_type": "code",
   "execution_count": 186,
   "metadata": {},
   "outputs": [
    {
     "name": "stdout",
     "output_type": "stream",
     "text": [
      "\n",
      "  DOWNLOADED: go-basic.obo\n",
      "\n",
      "  DOWNLOADED: gene2go\n"
     ]
    }
   ],
   "source": [
    "obo_fname = download_go_basic_obo()\n",
    "gene2go = download_ncbi_associations()"
   ]
  },
  {
   "cell_type": "markdown",
   "metadata": {},
   "source": [
    "Read"
   ]
  },
  {
   "cell_type": "code",
   "execution_count": 38,
   "metadata": {},
   "outputs": [
    {
     "name": "stdout",
     "output_type": "stream",
     "text": [
      "load obo file go-basic.obo\n",
      "go-basic.obo: fmt(1.2) rel(2017-08-31) 46,942 GO Terms\n"
     ]
    }
   ],
   "source": [
    "from goatools.obo_parser import GODag\n",
    "\n",
    "obodag = GODag(\"go-basic.obo\")"
   ]
  },
  {
   "cell_type": "code",
   "execution_count": 39,
   "metadata": {
    "collapsed": true
   },
   "outputs": [],
   "source": [
    "from goatools.associations import read_ncbi_gene2go\n",
    "\n",
    "gene2go = read_ncbi_gene2go(\"gene2go\", taxids=[9606])"
   ]
  },
  {
   "cell_type": "code",
   "execution_count": 40,
   "metadata": {
    "collapsed": true
   },
   "outputs": [],
   "source": [
    "from genes_NCBI_9606_ProteinCoding import GeneID2nt"
   ]
  },
  {
   "cell_type": "markdown",
   "metadata": {},
   "source": [
    "Begin study"
   ]
  },
  {
   "cell_type": "code",
   "execution_count": 41,
   "metadata": {},
   "outputs": [
    {
     "name": "stdout",
     "output_type": "stream",
     "text": [
      "18,397 out of 20,913 population items found in association\n"
     ]
    }
   ],
   "source": [
    "from goatools.go_enrichment import GOEnrichmentStudy\n",
    "\n",
    "goeaobj = GOEnrichmentStudy(\n",
    "        GeneID2nt.keys(), # List of mouse protein-coding genes\n",
    "        gene2go, # geneid/GO associations\n",
    "        obodag, # Ontologies\n",
    "        propagate_counts = False,\n",
    "        alpha = 0.05, # default significance cut-off\n",
    "        methods = ['fdr_bh']) # defult multipletest correction method"
   ]
  },
  {
   "cell_type": "code",
   "execution_count": 42,
   "metadata": {
    "collapsed": true
   },
   "outputs": [],
   "source": [
    "gene2id = {GeneID2nt[x].Symbol : x for x in GeneID2nt.keys()}"
   ]
  },
  {
   "cell_type": "code",
   "execution_count": 43,
   "metadata": {
    "collapsed": true
   },
   "outputs": [],
   "source": [
    "def has_key(key, dict_):\n",
    "    try:\n",
    "        dict_[key]\n",
    "        return True\n",
    "    except:\n",
    "        return False"
   ]
  },
  {
   "cell_type": "code",
   "execution_count": 44,
   "metadata": {
    "collapsed": true
   },
   "outputs": [],
   "source": [
    "study_results = []"
   ]
  },
  {
   "cell_type": "code",
   "execution_count": 46,
   "metadata": {},
   "outputs": [
    {
     "name": "stdout",
     "output_type": "stream",
     "text": [
      "Calculating uncorrected p-values using fisher\n",
      " 1,358 out of  1,399 study items found in association\n",
      "Running multitest correction: statsmodels fdr_bh\n",
      "  5,419 GO terms are associated with 1,358 of 1,399 study items\n",
      "  17,438 GO terms are associated with 18,397 of 20,913 population items\n",
      "Calculating uncorrected p-values using fisher\n",
      "   382 out of    394 study items found in association\n",
      "Running multitest correction: statsmodels fdr_bh\n",
      "  2,928 GO terms are associated with 382 of 394 study items\n",
      "  17,438 GO terms are associated with 18,397 of 20,913 population items\n",
      "Calculating uncorrected p-values using fisher\n",
      " 2,348 out of  2,393 study items found in association\n",
      "Running multitest correction: statsmodels fdr_bh\n",
      "  7,790 GO terms are associated with 2,348 of 2,393 study items\n",
      "  17,438 GO terms are associated with 18,397 of 20,913 population items\n",
      "Calculating uncorrected p-values using fisher\n",
      " 5,105 out of  5,203 study items found in association\n",
      "Running multitest correction: statsmodels fdr_bh\n",
      "  11,173 GO terms are associated with 5,105 of 5,203 study items\n",
      "  17,438 GO terms are associated with 18,397 of 20,913 population items\n",
      "Calculating uncorrected p-values using fisher\n",
      " 2,995 out of  3,058 study items found in association\n",
      "Running multitest correction: statsmodels fdr_bh\n",
      "  8,951 GO terms are associated with 2,995 of 3,058 study items\n",
      "  17,438 GO terms are associated with 18,397 of 20,913 population items\n",
      "Calculating uncorrected p-values using fisher\n",
      " 3,624 out of  3,687 study items found in association\n",
      "Running multitest correction: statsmodels fdr_bh\n",
      "  9,419 GO terms are associated with 3,624 of 3,687 study items\n",
      "  17,438 GO terms are associated with 18,397 of 20,913 population items\n",
      "Calculating uncorrected p-values using fisher\n",
      " 8,991 out of  9,225 study items found in association\n",
      "Running multitest correction: statsmodels fdr_bh\n",
      "  13,564 GO terms are associated with 8,991 of 9,225 study items\n",
      "  17,438 GO terms are associated with 18,397 of 20,913 population items\n",
      "Calculating uncorrected p-values using fisher\n",
      " 2,869 out of  2,906 study items found in association\n",
      "Running multitest correction: statsmodels fdr_bh\n",
      "  8,441 GO terms are associated with 2,869 of 2,906 study items\n",
      "  17,438 GO terms are associated with 18,397 of 20,913 population items\n",
      "Calculating uncorrected p-values using fisher\n",
      " 2,722 out of  2,791 study items found in association\n",
      "Running multitest correction: statsmodels fdr_bh\n",
      "  7,937 GO terms are associated with 2,722 of 2,791 study items\n",
      "  17,438 GO terms are associated with 18,397 of 20,913 population items\n",
      "Calculating uncorrected p-values using fisher\n",
      " 6,067 out of  6,189 study items found in association\n",
      "Running multitest correction: statsmodels fdr_bh\n",
      "  11,518 GO terms are associated with 6,067 of 6,189 study items\n",
      "  17,438 GO terms are associated with 18,397 of 20,913 population items\n"
     ]
    }
   ],
   "source": [
    "for n in names:\n",
    "    test = list(filter(lambda x: x!='_', [gene2id[x] if has_key(x, gene2id) else '_' for x in n]))\n",
    "    results_raw = goeaobj.run_study(test)\n",
    "    study_results.append(results_raw)"
   ]
  },
  {
   "cell_type": "code",
   "execution_count": 47,
   "metadata": {
    "collapsed": true
   },
   "outputs": [],
   "source": [
    "results_proc = list(map(lambda results_raw: [r for r in results_raw if r.p_fdr_bh < 0.05], study_results))"
   ]
  },
  {
   "cell_type": "code",
   "execution_count": 61,
   "metadata": {
    "collapsed": true
   },
   "outputs": [],
   "source": [
    "from goatools.godag_plot import plot_gos, plot_results, plot_goid2goobj"
   ]
  },
  {
   "cell_type": "code",
   "execution_count": 63,
   "metadata": {},
   "outputs": [
    {
     "name": "stdout",
     "output_type": "stream",
     "text": [
      "    4 usr  43 GOs  WROTE: results/0_BP.png\n",
      "    3 usr  12 GOs  WROTE: results/0_MF.png\n",
      "    4 usr  15 GOs  WROTE: results/0_CC.png\n",
      "   40 usr 321 GOs  WROTE: results/1_BP.png\n",
      "    8 usr  36 GOs  WROTE: results/1_MF.png\n",
      "   18 usr  58 GOs  WROTE: results/1_CC.png\n",
      "   36 usr 287 GOs  WROTE: results/2_BP.png\n",
      "   16 usr  52 GOs  WROTE: results/2_MF.png\n",
      "   39 usr 121 GOs  WROTE: results/2_CC.png\n",
      "  289 usr 1133 GOs  WROTE: results/3_BP.png\n",
      "   99 usr 266 GOs  WROTE: results/3_MF.png\n",
      "  129 usr 269 GOs  WROTE: results/3_CC.png\n",
      "  236 usr 989 GOs  WROTE: results/4_BP.png\n",
      "   80 usr 197 GOs  WROTE: results/4_MF.png\n",
      "  115 usr 228 GOs  WROTE: results/4_CC.png\n",
      "  141 usr 775 GOs  WROTE: results/5_BP.png\n",
      "   47 usr 139 GOs  WROTE: results/5_MF.png\n",
      "   74 usr 173 GOs  WROTE: results/5_CC.png\n",
      "  295 usr 1116 GOs  WROTE: results/6_BP.png\n",
      "  124 usr 300 GOs  WROTE: results/6_MF.png\n",
      "  137 usr 267 GOs  WROTE: results/6_CC.png\n",
      "  216 usr 979 GOs  WROTE: results/7_BP.png\n",
      "   79 usr 227 GOs  WROTE: results/7_MF.png\n",
      "  121 usr 247 GOs  WROTE: results/7_CC.png\n",
      "   80 usr 531 GOs  WROTE: results/8_BP.png\n",
      "   28 usr  89 GOs  WROTE: results/8_MF.png\n",
      "   62 usr 150 GOs  WROTE: results/8_CC.png\n",
      "  249 usr 1010 GOs  WROTE: results/9_BP.png\n",
      "   97 usr 234 GOs  WROTE: results/9_MF.png\n",
      "  147 usr 298 GOs  WROTE: results/9_CC.png\n"
     ]
    }
   ],
   "source": [
    "for i, res in enumerate(results_proc):\n",
    "    plot_results(\"results/\"+str(i)+\"_{NS}.png\", res)"
   ]
  }
 ],
 "metadata": {
  "kernelspec": {
   "display_name": "Python [conda root]",
   "language": "python",
   "name": "conda-root-py"
  },
  "language_info": {
   "codemirror_mode": {
    "name": "ipython",
    "version": 3
   },
   "file_extension": ".py",
   "mimetype": "text/x-python",
   "name": "python",
   "nbconvert_exporter": "python",
   "pygments_lexer": "ipython3",
   "version": "3.5.3"
  }
 },
 "nbformat": 4,
 "nbformat_minor": 2
}
